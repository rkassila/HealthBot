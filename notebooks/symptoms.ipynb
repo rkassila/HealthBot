{
 "cells": [
  {
   "cell_type": "code",
   "execution_count": 3,
   "id": "048c04fb-86dd-4c8a-a868-592c395f8548",
   "metadata": {},
   "outputs": [],
   "source": [
    "import pandas as pd\n",
    "import os"
   ]
  },
  {
   "cell_type": "code",
   "execution_count": 10,
   "id": "6800d33c-344f-4757-9048-c81c9b87eea2",
   "metadata": {},
   "outputs": [],
   "source": [
    "path = \"databases/diseases/Symptom-severity.csv\"\n",
    "symptoms_df = pd.read_csv(os.path.join(\"..\", path))"
   ]
  },
  {
   "cell_type": "code",
   "execution_count": 14,
   "id": "00152dbe-db10-460a-9422-e6eca2933720",
   "metadata": {},
   "outputs": [],
   "source": [
    "symptoms = symptoms_df['Symptom']"
   ]
  },
  {
   "cell_type": "code",
   "execution_count": 15,
   "id": "345cba43-9728-4efa-b076-474541e5d330",
   "metadata": {},
   "outputs": [
    {
     "data": {
      "text/plain": [
       "{'itching': ['itching'],\n",
       " 'skin_rash': ['skin', 'rash'],\n",
       " 'nodal_skin_eruptions': ['nodal', 'skin', 'eruptions'],\n",
       " 'continuous_sneezing': ['continuous', 'sneezing'],\n",
       " 'shivering': ['shivering'],\n",
       " 'chills': ['chills'],\n",
       " 'joint_pain': ['joint', 'pain'],\n",
       " 'stomach_pain': ['stomach', 'pain'],\n",
       " 'acidity': ['acidity'],\n",
       " 'ulcers_on_tongue': ['ulcers', 'on', 'tongue'],\n",
       " 'muscle_wasting': ['muscle', 'wasting'],\n",
       " 'vomiting': ['vomiting'],\n",
       " 'burning_micturition': ['burning', 'micturition'],\n",
       " 'spotting_urination': ['spotting', 'urination'],\n",
       " 'fatigue': ['fatigue'],\n",
       " 'weight_gain': ['weight', 'gain'],\n",
       " 'anxiety': ['anxiety'],\n",
       " 'cold_hands_and_feets': ['cold', 'hands', 'and', 'feets'],\n",
       " 'mood_swings': ['mood', 'swings'],\n",
       " 'weight_loss': ['weight', 'loss'],\n",
       " 'restlessness': ['restlessness'],\n",
       " 'lethargy': ['lethargy'],\n",
       " 'patches_in_throat': ['patches', 'in', 'throat'],\n",
       " 'irregular_sugar_level': ['irregular', 'sugar', 'level'],\n",
       " 'cough': ['cough'],\n",
       " 'high_fever': ['high', 'fever'],\n",
       " 'sunken_eyes': ['sunken', 'eyes'],\n",
       " 'breathlessness': ['breathlessness'],\n",
       " 'sweating': ['sweating'],\n",
       " 'dehydration': ['dehydration'],\n",
       " 'indigestion': ['indigestion'],\n",
       " 'headache': ['headache'],\n",
       " 'yellowish_skin': ['yellowish', 'skin'],\n",
       " 'dark_urine': ['dark', 'urine'],\n",
       " 'nausea': ['nausea'],\n",
       " 'loss_of_appetite': ['loss', 'of', 'appetite'],\n",
       " 'pain_behind_the_eyes': ['pain', 'behind', 'the', 'eyes'],\n",
       " 'back_pain': ['back', 'pain'],\n",
       " 'constipation': ['constipation'],\n",
       " 'abdominal_pain': ['abdominal', 'pain'],\n",
       " 'diarrhoea': ['diarrhoea'],\n",
       " 'mild_fever': ['mild', 'fever'],\n",
       " 'yellow_urine': ['yellow', 'urine'],\n",
       " 'yellowing_of_eyes': ['yellowing', 'of', 'eyes'],\n",
       " 'acute_liver_failure': ['acute', 'liver', 'failure'],\n",
       " 'fluid_overload': ['fluid', 'overload'],\n",
       " 'swelling_of_stomach': ['swelling', 'of', 'stomach'],\n",
       " 'swelled_lymph_nodes': ['swelled', 'lymph', 'nodes'],\n",
       " 'malaise': ['malaise'],\n",
       " 'blurred_and_distorted_vision': ['blurred', 'and', 'distorted', 'vision'],\n",
       " 'phlegm': ['phlegm'],\n",
       " 'throat_irritation': ['throat', 'irritation'],\n",
       " 'redness_of_eyes': ['redness', 'of', 'eyes'],\n",
       " 'sinus_pressure': ['sinus', 'pressure'],\n",
       " 'runny_nose': ['runny', 'nose'],\n",
       " 'congestion': ['congestion'],\n",
       " 'chest_pain': ['chest', 'pain'],\n",
       " 'weakness_in_limbs': ['weakness', 'in', 'limbs'],\n",
       " 'fast_heart_rate': ['fast', 'heart', 'rate'],\n",
       " 'pain_during_bowel_movements': ['pain', 'during', 'bowel', 'movements'],\n",
       " 'pain_in_anal_region': ['pain', 'in', 'anal', 'region'],\n",
       " 'bloody_stool': ['bloody', 'stool'],\n",
       " 'irritation_in_anus': ['irritation', 'in', 'anus'],\n",
       " 'neck_pain': ['neck', 'pain'],\n",
       " 'dizziness': ['dizziness'],\n",
       " 'cramps': ['cramps'],\n",
       " 'bruising': ['bruising'],\n",
       " 'obesity': ['obesity'],\n",
       " 'swollen_legs': ['swollen', 'legs'],\n",
       " 'swollen_blood_vessels': ['swollen', 'blood', 'vessels'],\n",
       " 'puffy_face_and_eyes': ['puffy', 'face', 'and', 'eyes'],\n",
       " 'enlarged_thyroid': ['enlarged', 'thyroid'],\n",
       " 'brittle_nails': ['brittle', 'nails'],\n",
       " 'swollen_extremeties': ['swollen', 'extremeties'],\n",
       " 'excessive_hunger': ['excessive', 'hunger'],\n",
       " 'extra_marital_contacts': ['extra', 'marital', 'contacts'],\n",
       " 'drying_and_tingling_lips': ['drying', 'and', 'tingling', 'lips'],\n",
       " 'slurred_speech': ['slurred', 'speech'],\n",
       " 'knee_pain': ['knee', 'pain'],\n",
       " 'hip_joint_pain': ['hip', 'joint', 'pain'],\n",
       " 'muscle_weakness': ['muscle', 'weakness'],\n",
       " 'stiff_neck': ['stiff', 'neck'],\n",
       " 'swelling_joints': ['swelling', 'joints'],\n",
       " 'movement_stiffness': ['movement', 'stiffness'],\n",
       " 'spinning_movements': ['spinning', 'movements'],\n",
       " 'loss_of_balance': ['loss', 'of', 'balance'],\n",
       " 'unsteadiness': ['unsteadiness'],\n",
       " 'weakness_of_one_body_side': ['weakness', 'of', 'one', 'body', 'side'],\n",
       " 'loss_of_smell': ['loss', 'of', 'smell'],\n",
       " 'bladder_discomfort': ['bladder', 'discomfort'],\n",
       " 'foul_smell_ofurine': ['foul', 'smell', 'ofurine'],\n",
       " 'continuous_feel_of_urine': ['continuous', 'feel', 'of', 'urine'],\n",
       " 'passage_of_gases': ['passage', 'of', 'gases'],\n",
       " 'internal_itching': ['internal', 'itching'],\n",
       " 'toxic_look_(typhos)': ['toxic', 'look', '(typhos)'],\n",
       " 'depression': ['depression'],\n",
       " 'irritability': ['irritability'],\n",
       " 'muscle_pain': ['muscle', 'pain'],\n",
       " 'altered_sensorium': ['altered', 'sensorium'],\n",
       " 'red_spots_over_body': ['red', 'spots', 'over', 'body'],\n",
       " 'belly_pain': ['belly', 'pain'],\n",
       " 'abnormal_menstruation': ['abnormal', 'menstruation'],\n",
       " 'dischromic_patches': ['dischromic', 'patches'],\n",
       " 'watering_from_eyes': ['watering', 'from', 'eyes'],\n",
       " 'increased_appetite': ['increased', 'appetite'],\n",
       " 'polyuria': ['polyuria'],\n",
       " 'family_history': ['family', 'history'],\n",
       " 'mucoid_sputum': ['mucoid', 'sputum'],\n",
       " 'rusty_sputum': ['rusty', 'sputum'],\n",
       " 'lack_of_concentration': ['lack', 'of', 'concentration'],\n",
       " 'visual_disturbances': ['visual', 'disturbances'],\n",
       " 'receiving_blood_transfusion': ['receiving', 'blood', 'transfusion'],\n",
       " 'receiving_unsterile_injections': ['receiving', 'unsterile', 'injections'],\n",
       " 'coma': ['coma'],\n",
       " 'stomach_bleeding': ['stomach', 'bleeding'],\n",
       " 'distention_of_abdomen': ['distention', 'of', 'abdomen'],\n",
       " 'history_of_alcohol_consumption': ['history', 'of', 'alcohol', 'consumption'],\n",
       " 'blood_in_sputum': ['blood', 'in', 'sputum'],\n",
       " 'prominent_veins_on_calf': ['prominent', 'veins', 'on', 'calf'],\n",
       " 'palpitations': ['palpitations'],\n",
       " 'painful_walking': ['painful', 'walking'],\n",
       " 'pus_filled_pimples': ['pus', 'filled', 'pimples'],\n",
       " 'blackheads': ['blackheads'],\n",
       " 'scurring': ['scurring'],\n",
       " 'skin_peeling': ['skin', 'peeling'],\n",
       " 'silver_like_dusting': ['silver', 'like', 'dusting'],\n",
       " 'small_dents_in_nails': ['small', 'dents', 'in', 'nails'],\n",
       " 'inflammatory_nails': ['inflammatory', 'nails'],\n",
       " 'blister': ['blister'],\n",
       " 'red_sore_around_nose': ['red', 'sore', 'around', 'nose'],\n",
       " 'yellow_crust_ooze': ['yellow', 'crust', 'ooze'],\n",
       " 'prognosis': ['prognosis']}"
      ]
     },
     "execution_count": 15,
     "metadata": {},
     "output_type": "execute_result"
    }
   ],
   "source": [
    "mapping = {symptom: symptom.split('_') for symptom in symptoms}\n",
    "mapping"
   ]
  },
  {
   "cell_type": "code",
   "execution_count": 16,
   "id": "ac50286d-1ec9-4060-9b08-79b50a5819f7",
   "metadata": {},
   "outputs": [],
   "source": [
    "def match_symptom(symptom, test_list):\n",
    "    words = mapping.get(symptom, [])\n",
    "    return all(word in test_list for word in words)"
   ]
  },
  {
   "cell_type": "code",
   "execution_count": 17,
   "id": "2687cd18-0eec-44fc-a78c-0925091d7b91",
   "metadata": {},
   "outputs": [],
   "source": [
    "test_list = ['skin', 'rash', 'cough']"
   ]
  },
  {
   "cell_type": "code",
   "execution_count": 24,
   "id": "124015ff-486c-42ca-afdf-5179108d81f8",
   "metadata": {},
   "outputs": [],
   "source": [
    "# Find matching symptoms in the main symptom list\n",
    "matched_symptoms = [symptom for symptom in symptoms if match_symptom(symptom, test_list)]"
   ]
  },
  {
   "cell_type": "code",
   "execution_count": 25,
   "id": "1460b5b0-9364-4f62-909b-d43dd0d4f980",
   "metadata": {},
   "outputs": [
    {
     "data": {
      "text/plain": [
       "['skin_rash', 'cough']"
      ]
     },
     "execution_count": 25,
     "metadata": {},
     "output_type": "execute_result"
    }
   ],
   "source": [
    "matched_symptoms"
   ]
  },
  {
   "cell_type": "code",
   "execution_count": null,
   "id": "7044642d-4fbd-448e-a9df-1627b94bda61",
   "metadata": {},
   "outputs": [],
   "source": []
  }
 ],
 "metadata": {
  "kernelspec": {
   "display_name": "Python 3 (ipykernel)",
   "language": "python",
   "name": "python3"
  },
  "language_info": {
   "codemirror_mode": {
    "name": "ipython",
    "version": 3
   },
   "file_extension": ".py",
   "mimetype": "text/x-python",
   "name": "python",
   "nbconvert_exporter": "python",
   "pygments_lexer": "ipython3",
   "version": "3.10.6"
  }
 },
 "nbformat": 4,
 "nbformat_minor": 5
}
